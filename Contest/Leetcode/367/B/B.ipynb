{
 "cells": [
  {
   "cell_type": "markdown",
   "metadata": {},
   "source": [
    "# 最短且最小的美丽字字符串\n",
    "\n",
    "给你一个二进制字符串 $s$ 和一个正整数 $k$ 。\n",
    "\n",
    "如果 $s$ 的某个子字符串中 $1$ 的个数恰好等于 $k$ ，则称这个子字符串是一个 **美丽子字符串** 。\n",
    "\n",
    "令 $len$ 等于 **最短** 美丽子字符串的长度。\n",
    "\n",
    "返回长度等于 $len$ 且字典序 **最小** 的美丽子字符串。如果 $s$ 中不含美丽子字符串，则返回一个 **空** 字符串。\n",
    "\n",
    "对于相同长度的两个字符串 $a$ 和 $b$ ，如果在 $a$ 和 $b$ 出现不同的第一个位置上，$a$ 中该位置上的字符严格大于 $b$ 中的对应字符，则认为字符串 $a$ 字典序 **大于** 字符串 $b$ 。\n",
    "\n",
    "*   例如，$\"abcd\"$ 的字典序大于 $\"abcc\"$ ，因为两个字符串出现不同的第一个位置对应第四个字符，而 $d$ 大于 $c$ 。\n",
    "\n",
    "**示例 1：**\n",
    "\n",
    "```\n",
    "输入：s = \"100011001\", k = 3\n",
    "输出：\"11001\"\n",
    "解释：示例中共有 7 个美丽子字符串：\n",
    "1. 子字符串 \"100011001\" 。\n",
    "2. 子字符串 \"100011001\" 。\n",
    "3. 子字符串 \"100011001\" 。\n",
    "4. 子字符串 \"100011001\" 。\n",
    "5. 子字符串 \"100011001\" 。\n",
    "6. 子字符串 \"100011001\" 。\n",
    "7. 子字符串 \"100011001\" 。\n",
    "最短美丽子字符串的长度是 5 。\n",
    "长度为 5 且字典序最小的美丽子字符串是子字符串 \"11001\" 。\n",
    "```\n",
    "\n",
    "**示例 2：**\n",
    "\n",
    "```\n",
    "输入：s = \"1011\", k = 2\n",
    "输出：\"11\"\n",
    "解释：示例中共有 3 个美丽子字符串：\n",
    "1. 子字符串 \"1011\" 。\n",
    "2. 子字符串 \"1011\" 。\n",
    "3. 子字符串 \"1011\" 。\n",
    "最短美丽子字符串的长度是 2 。\n",
    "长度为 2 且字典序最小的美丽子字符串是子字符串 \"11\" 。\n",
    "```\n",
    "\n",
    "**示例 3：**\n",
    "\n",
    "```\n",
    "输入：s = \"000\", k = 1\n",
    "输出：\"\"\n",
    "解释：示例中不存在美丽子字符串。\n",
    "```\n",
    "\n",
    "**提示：**\n",
    "\n",
    "*   $1 <= s.length <= 100$\n",
    "*   $1 <= k <= s.length$"
   ]
  },
  {
   "cell_type": "markdown",
   "metadata": {},
   "source": [
    "# 暴力枚举\n",
    "* 枚举长度 -> 枚举右端点（可得到左端点）(切片) -> 维持字典序最小且满足1的个数则成立\n",
    "* 先满足长度最短"
   ]
  },
  {
   "cell_type": "code",
   "execution_count": null,
   "metadata": {},
   "outputs": [],
   "source": [
    "class Solution:\n",
    "    def shortestBeautifulSubstring(self, s: str, k: int) -> str:\n",
    "        if (s.count(\"1\") < k):\n",
    "            return \"\"\n",
    "        # *必然有解\n",
    "        for size in range(k, len(s)+1):\n",
    "            ans = \"\"\n",
    "            for i in range(size, len(s)+1):\n",
    "                t = s[i-size:i]\n",
    "                if (ans == \"\" or t < ans) and t.count(\"1\") == k:\n",
    "                    ans = t\n",
    "            if ans:\n",
    "                return ans\n"
   ]
  },
  {
   "cell_type": "markdown",
   "metadata": {},
   "source": [
    "# 滑动窗口\n",
    "* 枚举右端点滑动左端点\n",
    "* 在‘1’的个数大与k或左端点为‘0’时滑动左端点"
   ]
  },
  {
   "cell_type": "code",
   "execution_count": null,
   "metadata": {},
   "outputs": [],
   "source": [
    "class Solution:\n",
    "    def shortestBeautifulSubstring(self, s: str, k: int) -> str:\n",
    "        if (s.count(\"1\") < k):\n",
    "            return \"\"\n",
    "        # *必然有解\n",
    "        count = 0\n",
    "        ans = \"\"\n",
    "        left = 0\n",
    "        for right, c in enumerate(s):  # * c = s[right]\n",
    "            count += int(c)\n",
    "            while (count > k or s[left] == \"0\"):\n",
    "                count -= int(s[left])\n",
    "                left += 1\n",
    "            if count == k:\n",
    "                t = s[left:right+1]\n",
    "                if ans == \"\" or len(t) < len(ans) or len(t) == len(ans) and t < ans:\n",
    "                    ans = t\n",
    "        return ans"
   ]
  }
 ],
 "metadata": {
  "language_info": {
   "name": "python"
  }
 },
 "nbformat": 4,
 "nbformat_minor": 2
}
