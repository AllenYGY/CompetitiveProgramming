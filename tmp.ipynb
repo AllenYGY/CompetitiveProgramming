{
 "cells": [
  {
   "cell_type": "code",
   "execution_count": 4,
   "id": "44f0fbc7",
   "metadata": {},
   "outputs": [
    {
     "data": {
      "text/plain": [
       "(4, 29)"
      ]
     },
     "execution_count": 4,
     "metadata": {},
     "output_type": "execute_result"
    }
   ],
   "source": [
    "(3*pow(24,-1,31)) % 31,pow(17,-3,31)"
   ]
  },
  {
   "cell_type": "code",
   "execution_count": 9,
   "id": "fb4c2469",
   "metadata": {},
   "outputs": [
    {
     "data": {
      "text/plain": [
       "(23, 23)"
      ]
     },
     "execution_count": 9,
     "metadata": {},
     "output_type": "execute_result"
    }
   ],
   "source": [
    "pow(95*45*31,1,97),pow(17*13*19*44,1,97)\n",
    "\n",
    "pow(95,1,97)*pow(45,1,97)*pow(31,1,97)%97,pow(95*45*31,1,97)\n"
   ]
  }
 ],
 "metadata": {
  "kernelspec": {
   "display_name": "ML",
   "language": "python",
   "name": "python3"
  },
  "language_info": {
   "codemirror_mode": {
    "name": "ipython",
    "version": 3
   },
   "file_extension": ".py",
   "mimetype": "text/x-python",
   "name": "python",
   "nbconvert_exporter": "python",
   "pygments_lexer": "ipython3",
   "version": "3.12.7"
  }
 },
 "nbformat": 4,
 "nbformat_minor": 5
}
